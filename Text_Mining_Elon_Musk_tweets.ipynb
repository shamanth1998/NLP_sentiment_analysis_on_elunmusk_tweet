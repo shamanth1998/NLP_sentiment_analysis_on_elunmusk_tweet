{
  "cells": [
    {
      "cell_type": "markdown",
      "metadata": {
        "id": "view-in-github",
        "colab_type": "text"
      },
      "source": [
        "<a href=\"https://colab.research.google.com/github/shamanth1998/NLP_sentiment_analysis_on_elunmusk_tweet/blob/main/Text_Mining_Elon_Musk_tweets.ipynb\" target=\"_parent\"><img src=\"https://colab.research.google.com/assets/colab-badge.svg\" alt=\"Open In Colab\"/></a>"
      ]
    },
    {
      "cell_type": "markdown",
      "metadata": {
        "id": "eWyGDCkbNFsa"
      },
      "source": [
        "## 1) Perform sentimental analysis on the Elon-musk tweets"
      ]
    },
    {
      "cell_type": "code",
      "execution_count": null,
      "metadata": {
        "id": "KmaS14gxNFsg"
      },
      "outputs": [],
      "source": [
        "import pandas as pd\n",
        "import numpy as np\n",
        "import matplotlib.pyplot as plt\n",
        "import seaborn as sns\n",
        "from nltk.corpus import stopwords\n",
        "from textblob import TextBlob"
      ]
    },
    {
      "cell_type": "code",
      "execution_count": null,
      "metadata": {
        "id": "ddn4lruCNFsj",
        "outputId": "1d3100cd-87c9-4f68-bf55-b6aa53b7c988"
      },
      "outputs": [
        {
          "data": {
            "text/html": [
              "<div>\n",
              "<style scoped>\n",
              "    .dataframe tbody tr th:only-of-type {\n",
              "        vertical-align: middle;\n",
              "    }\n",
              "\n",
              "    .dataframe tbody tr th {\n",
              "        vertical-align: top;\n",
              "    }\n",
              "\n",
              "    .dataframe thead th {\n",
              "        text-align: right;\n",
              "    }\n",
              "</style>\n",
              "<table border=\"1\" class=\"dataframe\">\n",
              "  <thead>\n",
              "    <tr style=\"text-align: right;\">\n",
              "      <th></th>\n",
              "      <th>Unnamed: 0</th>\n",
              "      <th>Text</th>\n",
              "    </tr>\n",
              "  </thead>\n",
              "  <tbody>\n",
              "    <tr>\n",
              "      <th>0</th>\n",
              "      <td>1</td>\n",
              "      <td>@kunalb11 Im an alien</td>\n",
              "    </tr>\n",
              "    <tr>\n",
              "      <th>1</th>\n",
              "      <td>2</td>\n",
              "      <td>@ID_AA_Carmack Ray tracing on Cyberpunk with H...</td>\n",
              "    </tr>\n",
              "    <tr>\n",
              "      <th>2</th>\n",
              "      <td>3</td>\n",
              "      <td>@joerogan @Spotify Great interview!</td>\n",
              "    </tr>\n",
              "    <tr>\n",
              "      <th>3</th>\n",
              "      <td>4</td>\n",
              "      <td>@gtera27 Doge is underestimated</td>\n",
              "    </tr>\n",
              "    <tr>\n",
              "      <th>4</th>\n",
              "      <td>5</td>\n",
              "      <td>@teslacn Congratulations Tesla China for amazi...</td>\n",
              "    </tr>\n",
              "    <tr>\n",
              "      <th>5</th>\n",
              "      <td>6</td>\n",
              "      <td>Happy New Year of the Ox! https://t.co/9WFKMYu2oj</td>\n",
              "    </tr>\n",
              "    <tr>\n",
              "      <th>6</th>\n",
              "      <td>7</td>\n",
              "      <td>Frodo was the underdoge,\\nAll thought he would...</td>\n",
              "    </tr>\n",
              "    <tr>\n",
              "      <th>7</th>\n",
              "      <td>8</td>\n",
              "      <td>@OwenSparks_ @flcnhvy @anonyx10 Haha thanks :)</td>\n",
              "    </tr>\n",
              "    <tr>\n",
              "      <th>8</th>\n",
              "      <td>9</td>\n",
              "      <td>@flcnhvy @anonyx10 Indeed! Tweets definitely d...</td>\n",
              "    </tr>\n",
              "    <tr>\n",
              "      <th>9</th>\n",
              "      <td>10</td>\n",
              "      <td>The most entertaining outcome is the most likely</td>\n",
              "    </tr>\n",
              "  </tbody>\n",
              "</table>\n",
              "</div>"
            ],
            "text/plain": [
              "   Unnamed: 0                                               Text\n",
              "0           1                             @kunalb11 Im an alien\n",
              "1           2  @ID_AA_Carmack Ray tracing on Cyberpunk with H...\n",
              "2           3                @joerogan @Spotify Great interview!\n",
              "3           4                    @gtera27 Doge is underestimated\n",
              "4           5  @teslacn Congratulations Tesla China for amazi...\n",
              "5           6  Happy New Year of the Ox! https://t.co/9WFKMYu2oj\n",
              "6           7  Frodo was the underdoge,\\nAll thought he would...\n",
              "7           8     @OwenSparks_ @flcnhvy @anonyx10 Haha thanks :)\n",
              "8           9  @flcnhvy @anonyx10 Indeed! Tweets definitely d...\n",
              "9          10   The most entertaining outcome is the most likely"
            ]
          },
          "execution_count": 2,
          "metadata": {},
          "output_type": "execute_result"
        }
      ],
      "source": [
        "data = pd.read_csv('Elon_musk.csv',encoding=\"latin-1\")\n",
        "data.head(10)"
      ]
    },
    {
      "cell_type": "code",
      "execution_count": null,
      "metadata": {
        "id": "qi-qhLcrNFso",
        "outputId": "0bdcd95c-43ba-4c0e-e009-2ff619450607"
      },
      "outputs": [
        {
          "data": {
            "text/html": [
              "<div>\n",
              "<style scoped>\n",
              "    .dataframe tbody tr th:only-of-type {\n",
              "        vertical-align: middle;\n",
              "    }\n",
              "\n",
              "    .dataframe tbody tr th {\n",
              "        vertical-align: top;\n",
              "    }\n",
              "\n",
              "    .dataframe thead th {\n",
              "        text-align: right;\n",
              "    }\n",
              "</style>\n",
              "<table border=\"1\" class=\"dataframe\">\n",
              "  <thead>\n",
              "    <tr style=\"text-align: right;\">\n",
              "      <th></th>\n",
              "      <th>Text</th>\n",
              "      <th>word_count</th>\n",
              "    </tr>\n",
              "  </thead>\n",
              "  <tbody>\n",
              "    <tr>\n",
              "      <th>0</th>\n",
              "      <td>@kunalb11 Im an alien</td>\n",
              "      <td>4</td>\n",
              "    </tr>\n",
              "    <tr>\n",
              "      <th>1</th>\n",
              "      <td>@ID_AA_Carmack Ray tracing on Cyberpunk with H...</td>\n",
              "      <td>13</td>\n",
              "    </tr>\n",
              "    <tr>\n",
              "      <th>2</th>\n",
              "      <td>@joerogan @Spotify Great interview!</td>\n",
              "      <td>4</td>\n",
              "    </tr>\n",
              "    <tr>\n",
              "      <th>3</th>\n",
              "      <td>@gtera27 Doge is underestimated</td>\n",
              "      <td>4</td>\n",
              "    </tr>\n",
              "    <tr>\n",
              "      <th>4</th>\n",
              "      <td>@teslacn Congratulations Tesla China for amazi...</td>\n",
              "      <td>17</td>\n",
              "    </tr>\n",
              "    <tr>\n",
              "      <th>5</th>\n",
              "      <td>Happy New Year of the Ox! https://t.co/9WFKMYu2oj</td>\n",
              "      <td>7</td>\n",
              "    </tr>\n",
              "    <tr>\n",
              "      <th>6</th>\n",
              "      <td>Frodo was the underdoge,\\nAll thought he would...</td>\n",
              "      <td>12</td>\n",
              "    </tr>\n",
              "    <tr>\n",
              "      <th>7</th>\n",
              "      <td>@OwenSparks_ @flcnhvy @anonyx10 Haha thanks :)</td>\n",
              "      <td>6</td>\n",
              "    </tr>\n",
              "    <tr>\n",
              "      <th>8</th>\n",
              "      <td>@flcnhvy @anonyx10 Indeed! Tweets definitely d...</td>\n",
              "      <td>11</td>\n",
              "    </tr>\n",
              "    <tr>\n",
              "      <th>9</th>\n",
              "      <td>The most entertaining outcome is the most likely</td>\n",
              "      <td>8</td>\n",
              "    </tr>\n",
              "  </tbody>\n",
              "</table>\n",
              "</div>"
            ],
            "text/plain": [
              "                                                Text  word_count\n",
              "0                             @kunalb11 Im an alien           4\n",
              "1  @ID_AA_Carmack Ray tracing on Cyberpunk with H...          13\n",
              "2                @joerogan @Spotify Great interview!           4\n",
              "3                    @gtera27 Doge is underestimated           4\n",
              "4  @teslacn Congratulations Tesla China for amazi...          17\n",
              "5  Happy New Year of the Ox! https://t.co/9WFKMYu2oj           7\n",
              "6  Frodo was the underdoge,\\nAll thought he would...          12\n",
              "7     @OwenSparks_ @flcnhvy @anonyx10 Haha thanks :)           6\n",
              "8  @flcnhvy @anonyx10 Indeed! Tweets definitely d...          11\n",
              "9   The most entertaining outcome is the most likely           8"
            ]
          },
          "execution_count": 3,
          "metadata": {},
          "output_type": "execute_result"
        }
      ],
      "source": [
        "#Number of Words in single tweet\n",
        "data['word_count'] = data['Text'].apply(lambda x: len(str(x).split(\" \")))\n",
        "data[['Text','word_count']].head(10)"
      ]
    },
    {
      "cell_type": "code",
      "execution_count": null,
      "metadata": {
        "id": "aKaSgfrkNFsr",
        "outputId": "7d5efeba-963c-44d6-d3c5-77529e268d8b"
      },
      "outputs": [
        {
          "data": {
            "text/html": [
              "<div>\n",
              "<style scoped>\n",
              "    .dataframe tbody tr th:only-of-type {\n",
              "        vertical-align: middle;\n",
              "    }\n",
              "\n",
              "    .dataframe tbody tr th {\n",
              "        vertical-align: top;\n",
              "    }\n",
              "\n",
              "    .dataframe thead th {\n",
              "        text-align: right;\n",
              "    }\n",
              "</style>\n",
              "<table border=\"1\" class=\"dataframe\">\n",
              "  <thead>\n",
              "    <tr style=\"text-align: right;\">\n",
              "      <th></th>\n",
              "      <th>Text</th>\n",
              "      <th>char_count</th>\n",
              "    </tr>\n",
              "  </thead>\n",
              "  <tbody>\n",
              "    <tr>\n",
              "      <th>0</th>\n",
              "      <td>@kunalb11 Im an alien</td>\n",
              "      <td>22</td>\n",
              "    </tr>\n",
              "    <tr>\n",
              "      <th>1</th>\n",
              "      <td>@ID_AA_Carmack Ray tracing on Cyberpunk with H...</td>\n",
              "      <td>82</td>\n",
              "    </tr>\n",
              "    <tr>\n",
              "      <th>2</th>\n",
              "      <td>@joerogan @Spotify Great interview!</td>\n",
              "      <td>35</td>\n",
              "    </tr>\n",
              "    <tr>\n",
              "      <th>3</th>\n",
              "      <td>@gtera27 Doge is underestimated</td>\n",
              "      <td>31</td>\n",
              "    </tr>\n",
              "    <tr>\n",
              "      <th>4</th>\n",
              "      <td>@teslacn Congratulations Tesla China for amazi...</td>\n",
              "      <td>104</td>\n",
              "    </tr>\n",
              "    <tr>\n",
              "      <th>5</th>\n",
              "      <td>Happy New Year of the Ox! https://t.co/9WFKMYu2oj</td>\n",
              "      <td>49</td>\n",
              "    </tr>\n",
              "    <tr>\n",
              "      <th>6</th>\n",
              "      <td>Frodo was the underdoge,\\nAll thought he would...</td>\n",
              "      <td>96</td>\n",
              "    </tr>\n",
              "    <tr>\n",
              "      <th>7</th>\n",
              "      <td>@OwenSparks_ @flcnhvy @anonyx10 Haha thanks :)</td>\n",
              "      <td>46</td>\n",
              "    </tr>\n",
              "    <tr>\n",
              "      <th>8</th>\n",
              "      <td>@flcnhvy @anonyx10 Indeed! Tweets definitely d...</td>\n",
              "      <td>89</td>\n",
              "    </tr>\n",
              "    <tr>\n",
              "      <th>9</th>\n",
              "      <td>The most entertaining outcome is the most likely</td>\n",
              "      <td>48</td>\n",
              "    </tr>\n",
              "  </tbody>\n",
              "</table>\n",
              "</div>"
            ],
            "text/plain": [
              "                                                Text  char_count\n",
              "0                             @kunalb11 Im an alien          22\n",
              "1  @ID_AA_Carmack Ray tracing on Cyberpunk with H...          82\n",
              "2                @joerogan @Spotify Great interview!          35\n",
              "3                    @gtera27 Doge is underestimated          31\n",
              "4  @teslacn Congratulations Tesla China for amazi...         104\n",
              "5  Happy New Year of the Ox! https://t.co/9WFKMYu2oj          49\n",
              "6  Frodo was the underdoge,\\nAll thought he would...          96\n",
              "7     @OwenSparks_ @flcnhvy @anonyx10 Haha thanks :)          46\n",
              "8  @flcnhvy @anonyx10 Indeed! Tweets definitely d...          89\n",
              "9   The most entertaining outcome is the most likely          48"
            ]
          },
          "execution_count": 4,
          "metadata": {},
          "output_type": "execute_result"
        }
      ],
      "source": [
        "#Number of characters in single tweet\n",
        "data['char_count'] = data['Text'].str.len()\n",
        "data[['Text','char_count']].head(10)"
      ]
    },
    {
      "cell_type": "code",
      "execution_count": null,
      "metadata": {
        "id": "0NWxfbt2NFsu",
        "outputId": "7ca68d08-fcda-4db9-a533-eb7ff2ab9fff"
      },
      "outputs": [
        {
          "data": {
            "text/html": [
              "<div>\n",
              "<style scoped>\n",
              "    .dataframe tbody tr th:only-of-type {\n",
              "        vertical-align: middle;\n",
              "    }\n",
              "\n",
              "    .dataframe tbody tr th {\n",
              "        vertical-align: top;\n",
              "    }\n",
              "\n",
              "    .dataframe thead th {\n",
              "        text-align: right;\n",
              "    }\n",
              "</style>\n",
              "<table border=\"1\" class=\"dataframe\">\n",
              "  <thead>\n",
              "    <tr style=\"text-align: right;\">\n",
              "      <th></th>\n",
              "      <th>Text</th>\n",
              "      <th>avg_word</th>\n",
              "    </tr>\n",
              "  </thead>\n",
              "  <tbody>\n",
              "    <tr>\n",
              "      <th>0</th>\n",
              "      <td>@kunalb11 Im an alien</td>\n",
              "      <td>4.750000</td>\n",
              "    </tr>\n",
              "    <tr>\n",
              "      <th>1</th>\n",
              "      <td>@ID_AA_Carmack Ray tracing on Cyberpunk with H...</td>\n",
              "      <td>5.384615</td>\n",
              "    </tr>\n",
              "    <tr>\n",
              "      <th>2</th>\n",
              "      <td>@joerogan @Spotify Great interview!</td>\n",
              "      <td>8.000000</td>\n",
              "    </tr>\n",
              "    <tr>\n",
              "      <th>3</th>\n",
              "      <td>@gtera27 Doge is underestimated</td>\n",
              "      <td>7.000000</td>\n",
              "    </tr>\n",
              "    <tr>\n",
              "      <th>4</th>\n",
              "      <td>@teslacn Congratulations Tesla China for amazi...</td>\n",
              "      <td>5.176471</td>\n",
              "    </tr>\n",
              "    <tr>\n",
              "      <th>5</th>\n",
              "      <td>Happy New Year of the Ox! https://t.co/9WFKMYu2oj</td>\n",
              "      <td>6.142857</td>\n",
              "    </tr>\n",
              "    <tr>\n",
              "      <th>6</th>\n",
              "      <td>Frodo was the underdoge,\\nAll thought he would...</td>\n",
              "      <td>5.928571</td>\n",
              "    </tr>\n",
              "    <tr>\n",
              "      <th>7</th>\n",
              "      <td>@OwenSparks_ @flcnhvy @anonyx10 Haha thanks :)</td>\n",
              "      <td>6.833333</td>\n",
              "    </tr>\n",
              "    <tr>\n",
              "      <th>8</th>\n",
              "      <td>@flcnhvy @anonyx10 Indeed! Tweets definitely d...</td>\n",
              "      <td>7.181818</td>\n",
              "    </tr>\n",
              "    <tr>\n",
              "      <th>9</th>\n",
              "      <td>The most entertaining outcome is the most likely</td>\n",
              "      <td>5.125000</td>\n",
              "    </tr>\n",
              "  </tbody>\n",
              "</table>\n",
              "</div>"
            ],
            "text/plain": [
              "                                                Text  avg_word\n",
              "0                             @kunalb11 Im an alien  4.750000\n",
              "1  @ID_AA_Carmack Ray tracing on Cyberpunk with H...  5.384615\n",
              "2                @joerogan @Spotify Great interview!  8.000000\n",
              "3                    @gtera27 Doge is underestimated  7.000000\n",
              "4  @teslacn Congratulations Tesla China for amazi...  5.176471\n",
              "5  Happy New Year of the Ox! https://t.co/9WFKMYu2oj  6.142857\n",
              "6  Frodo was the underdoge,\\nAll thought he would...  5.928571\n",
              "7     @OwenSparks_ @flcnhvy @anonyx10 Haha thanks :)  6.833333\n",
              "8  @flcnhvy @anonyx10 Indeed! Tweets definitely d...  7.181818\n",
              "9   The most entertaining outcome is the most likely  5.125000"
            ]
          },
          "execution_count": 5,
          "metadata": {},
          "output_type": "execute_result"
        }
      ],
      "source": [
        "def avg_word(sentence):\n",
        "  words = sentence.split()\n",
        "  return (sum(len(word) for word in words)/len(words))\n",
        "\n",
        "data['avg_word'] = data['Text'].apply(lambda x: avg_word(x))\n",
        "data[['Text','avg_word']].head(10)"
      ]
    },
    {
      "cell_type": "code",
      "execution_count": null,
      "metadata": {
        "id": "7H36sokXNFsx",
        "outputId": "58a5646e-54a3-4d5b-894e-90f1fd8f7616"
      },
      "outputs": [
        {
          "name": "stderr",
          "output_type": "stream",
          "text": [
            "[nltk_data] Downloading package stopwords to\n",
            "[nltk_data]     C:\\Users\\HARSHA\\AppData\\Roaming\\nltk_data...\n",
            "[nltk_data]   Package stopwords is already up-to-date!\n"
          ]
        },
        {
          "data": {
            "text/html": [
              "<div>\n",
              "<style scoped>\n",
              "    .dataframe tbody tr th:only-of-type {\n",
              "        vertical-align: middle;\n",
              "    }\n",
              "\n",
              "    .dataframe tbody tr th {\n",
              "        vertical-align: top;\n",
              "    }\n",
              "\n",
              "    .dataframe thead th {\n",
              "        text-align: right;\n",
              "    }\n",
              "</style>\n",
              "<table border=\"1\" class=\"dataframe\">\n",
              "  <thead>\n",
              "    <tr style=\"text-align: right;\">\n",
              "      <th></th>\n",
              "      <th>Text</th>\n",
              "      <th>stopwords</th>\n",
              "    </tr>\n",
              "  </thead>\n",
              "  <tbody>\n",
              "    <tr>\n",
              "      <th>0</th>\n",
              "      <td>@kunalb11 Im an alien</td>\n",
              "      <td>1</td>\n",
              "    </tr>\n",
              "    <tr>\n",
              "      <th>1</th>\n",
              "      <td>@ID_AA_Carmack Ray tracing on Cyberpunk with H...</td>\n",
              "      <td>4</td>\n",
              "    </tr>\n",
              "    <tr>\n",
              "      <th>2</th>\n",
              "      <td>@joerogan @Spotify Great interview!</td>\n",
              "      <td>0</td>\n",
              "    </tr>\n",
              "    <tr>\n",
              "      <th>3</th>\n",
              "      <td>@gtera27 Doge is underestimated</td>\n",
              "      <td>1</td>\n",
              "    </tr>\n",
              "    <tr>\n",
              "      <th>4</th>\n",
              "      <td>@teslacn Congratulations Tesla China for amazi...</td>\n",
              "      <td>5</td>\n",
              "    </tr>\n",
              "    <tr>\n",
              "      <th>5</th>\n",
              "      <td>Happy New Year of the Ox! https://t.co/9WFKMYu2oj</td>\n",
              "      <td>2</td>\n",
              "    </tr>\n",
              "    <tr>\n",
              "      <th>6</th>\n",
              "      <td>Frodo was the underdoge,\\nAll thought he would...</td>\n",
              "      <td>5</td>\n",
              "    </tr>\n",
              "    <tr>\n",
              "      <th>7</th>\n",
              "      <td>@OwenSparks_ @flcnhvy @anonyx10 Haha thanks :)</td>\n",
              "      <td>0</td>\n",
              "    </tr>\n",
              "    <tr>\n",
              "      <th>8</th>\n",
              "      <td>@flcnhvy @anonyx10 Indeed! Tweets definitely d...</td>\n",
              "      <td>2</td>\n",
              "    </tr>\n",
              "    <tr>\n",
              "      <th>9</th>\n",
              "      <td>The most entertaining outcome is the most likely</td>\n",
              "      <td>4</td>\n",
              "    </tr>\n",
              "  </tbody>\n",
              "</table>\n",
              "</div>"
            ],
            "text/plain": [
              "                                                Text  stopwords\n",
              "0                             @kunalb11 Im an alien          1\n",
              "1  @ID_AA_Carmack Ray tracing on Cyberpunk with H...          4\n",
              "2                @joerogan @Spotify Great interview!          0\n",
              "3                    @gtera27 Doge is underestimated          1\n",
              "4  @teslacn Congratulations Tesla China for amazi...          5\n",
              "5  Happy New Year of the Ox! https://t.co/9WFKMYu2oj          2\n",
              "6  Frodo was the underdoge,\\nAll thought he would...          5\n",
              "7     @OwenSparks_ @flcnhvy @anonyx10 Haha thanks :)          0\n",
              "8  @flcnhvy @anonyx10 Indeed! Tweets definitely d...          2\n",
              "9   The most entertaining outcome is the most likely          4"
            ]
          },
          "execution_count": 6,
          "metadata": {},
          "output_type": "execute_result"
        }
      ],
      "source": [
        "#number of stop words\n",
        "import nltk\n",
        "nltk.download('stopwords')\n",
        "\n",
        "stop = stopwords.words('english')\n",
        "\n",
        "data['stopwords'] = data['Text'].apply(lambda x: len([x for x in x.split() if x in stop]))\n",
        "data[['Text','stopwords']].head(10)"
      ]
    },
    {
      "cell_type": "code",
      "execution_count": null,
      "metadata": {
        "id": "zooWmxoHNFs3",
        "outputId": "e5f307b1-cee6-4acd-ff7b-6ca17c3e850b"
      },
      "outputs": [
        {
          "data": {
            "text/html": [
              "<div>\n",
              "<style scoped>\n",
              "    .dataframe tbody tr th:only-of-type {\n",
              "        vertical-align: middle;\n",
              "    }\n",
              "\n",
              "    .dataframe tbody tr th {\n",
              "        vertical-align: top;\n",
              "    }\n",
              "\n",
              "    .dataframe thead th {\n",
              "        text-align: right;\n",
              "    }\n",
              "</style>\n",
              "<table border=\"1\" class=\"dataframe\">\n",
              "  <thead>\n",
              "    <tr style=\"text-align: right;\">\n",
              "      <th></th>\n",
              "      <th>Text</th>\n",
              "      <th>hastags</th>\n",
              "    </tr>\n",
              "  </thead>\n",
              "  <tbody>\n",
              "    <tr>\n",
              "      <th>0</th>\n",
              "      <td>@kunalb11 Im an alien</td>\n",
              "      <td>1</td>\n",
              "    </tr>\n",
              "    <tr>\n",
              "      <th>1</th>\n",
              "      <td>@ID_AA_Carmack Ray tracing on Cyberpunk with H...</td>\n",
              "      <td>1</td>\n",
              "    </tr>\n",
              "    <tr>\n",
              "      <th>2</th>\n",
              "      <td>@joerogan @Spotify Great interview!</td>\n",
              "      <td>2</td>\n",
              "    </tr>\n",
              "    <tr>\n",
              "      <th>3</th>\n",
              "      <td>@gtera27 Doge is underestimated</td>\n",
              "      <td>1</td>\n",
              "    </tr>\n",
              "    <tr>\n",
              "      <th>4</th>\n",
              "      <td>@teslacn Congratulations Tesla China for amazi...</td>\n",
              "      <td>1</td>\n",
              "    </tr>\n",
              "    <tr>\n",
              "      <th>5</th>\n",
              "      <td>Happy New Year of the Ox! https://t.co/9WFKMYu2oj</td>\n",
              "      <td>0</td>\n",
              "    </tr>\n",
              "    <tr>\n",
              "      <th>6</th>\n",
              "      <td>Frodo was the underdoge,\\nAll thought he would...</td>\n",
              "      <td>0</td>\n",
              "    </tr>\n",
              "    <tr>\n",
              "      <th>7</th>\n",
              "      <td>@OwenSparks_ @flcnhvy @anonyx10 Haha thanks :)</td>\n",
              "      <td>3</td>\n",
              "    </tr>\n",
              "    <tr>\n",
              "      <th>8</th>\n",
              "      <td>@flcnhvy @anonyx10 Indeed! Tweets definitely d...</td>\n",
              "      <td>2</td>\n",
              "    </tr>\n",
              "    <tr>\n",
              "      <th>9</th>\n",
              "      <td>The most entertaining outcome is the most likely</td>\n",
              "      <td>0</td>\n",
              "    </tr>\n",
              "  </tbody>\n",
              "</table>\n",
              "</div>"
            ],
            "text/plain": [
              "                                                Text  hastags\n",
              "0                             @kunalb11 Im an alien        1\n",
              "1  @ID_AA_Carmack Ray tracing on Cyberpunk with H...        1\n",
              "2                @joerogan @Spotify Great interview!        2\n",
              "3                    @gtera27 Doge is underestimated        1\n",
              "4  @teslacn Congratulations Tesla China for amazi...        1\n",
              "5  Happy New Year of the Ox! https://t.co/9WFKMYu2oj        0\n",
              "6  Frodo was the underdoge,\\nAll thought he would...        0\n",
              "7     @OwenSparks_ @flcnhvy @anonyx10 Haha thanks :)        3\n",
              "8  @flcnhvy @anonyx10 Indeed! Tweets definitely d...        2\n",
              "9   The most entertaining outcome is the most likely        0"
            ]
          },
          "execution_count": 7,
          "metadata": {},
          "output_type": "execute_result"
        }
      ],
      "source": [
        "#number of special characters\n",
        "data['hastags'] = data['Text'].apply(lambda x: len([x for x in x.split() if x.startswith('@')]))\n",
        "data[['Text','hastags']].head(10)"
      ]
    },
    {
      "cell_type": "code",
      "execution_count": null,
      "metadata": {
        "id": "yTZAPjp2NFs5",
        "outputId": "23f6519a-aa73-49bf-9746-b9997e42c5a6"
      },
      "outputs": [
        {
          "data": {
            "text/html": [
              "<div>\n",
              "<style scoped>\n",
              "    .dataframe tbody tr th:only-of-type {\n",
              "        vertical-align: middle;\n",
              "    }\n",
              "\n",
              "    .dataframe tbody tr th {\n",
              "        vertical-align: top;\n",
              "    }\n",
              "\n",
              "    .dataframe thead th {\n",
              "        text-align: right;\n",
              "    }\n",
              "</style>\n",
              "<table border=\"1\" class=\"dataframe\">\n",
              "  <thead>\n",
              "    <tr style=\"text-align: right;\">\n",
              "      <th></th>\n",
              "      <th>Text</th>\n",
              "      <th>numerics</th>\n",
              "    </tr>\n",
              "  </thead>\n",
              "  <tbody>\n",
              "    <tr>\n",
              "      <th>0</th>\n",
              "      <td>@kunalb11 Im an alien</td>\n",
              "      <td>0</td>\n",
              "    </tr>\n",
              "    <tr>\n",
              "      <th>1</th>\n",
              "      <td>@ID_AA_Carmack Ray tracing on Cyberpunk with H...</td>\n",
              "      <td>0</td>\n",
              "    </tr>\n",
              "    <tr>\n",
              "      <th>2</th>\n",
              "      <td>@joerogan @Spotify Great interview!</td>\n",
              "      <td>0</td>\n",
              "    </tr>\n",
              "    <tr>\n",
              "      <th>3</th>\n",
              "      <td>@gtera27 Doge is underestimated</td>\n",
              "      <td>0</td>\n",
              "    </tr>\n",
              "    <tr>\n",
              "      <th>4</th>\n",
              "      <td>@teslacn Congratulations Tesla China for amazi...</td>\n",
              "      <td>0</td>\n",
              "    </tr>\n",
              "    <tr>\n",
              "      <th>5</th>\n",
              "      <td>Happy New Year of the Ox! https://t.co/9WFKMYu2oj</td>\n",
              "      <td>0</td>\n",
              "    </tr>\n",
              "    <tr>\n",
              "      <th>6</th>\n",
              "      <td>Frodo was the underdoge,\\nAll thought he would...</td>\n",
              "      <td>0</td>\n",
              "    </tr>\n",
              "    <tr>\n",
              "      <th>7</th>\n",
              "      <td>@OwenSparks_ @flcnhvy @anonyx10 Haha thanks :)</td>\n",
              "      <td>0</td>\n",
              "    </tr>\n",
              "    <tr>\n",
              "      <th>8</th>\n",
              "      <td>@flcnhvy @anonyx10 Indeed! Tweets definitely d...</td>\n",
              "      <td>0</td>\n",
              "    </tr>\n",
              "    <tr>\n",
              "      <th>9</th>\n",
              "      <td>The most entertaining outcome is the most likely</td>\n",
              "      <td>0</td>\n",
              "    </tr>\n",
              "  </tbody>\n",
              "</table>\n",
              "</div>"
            ],
            "text/plain": [
              "                                                Text  numerics\n",
              "0                             @kunalb11 Im an alien         0\n",
              "1  @ID_AA_Carmack Ray tracing on Cyberpunk with H...         0\n",
              "2                @joerogan @Spotify Great interview!         0\n",
              "3                    @gtera27 Doge is underestimated         0\n",
              "4  @teslacn Congratulations Tesla China for amazi...         0\n",
              "5  Happy New Year of the Ox! https://t.co/9WFKMYu2oj         0\n",
              "6  Frodo was the underdoge,\\nAll thought he would...         0\n",
              "7     @OwenSparks_ @flcnhvy @anonyx10 Haha thanks :)         0\n",
              "8  @flcnhvy @anonyx10 Indeed! Tweets definitely d...         0\n",
              "9   The most entertaining outcome is the most likely         0"
            ]
          },
          "execution_count": 8,
          "metadata": {},
          "output_type": "execute_result"
        }
      ],
      "source": [
        "# no of numerical values\n",
        "data['numerics'] = data['Text'].apply(lambda x: len([x for x in x.split() if x.isdigit()]))\n",
        "data[['Text','numerics']].head(10)"
      ]
    },
    {
      "cell_type": "code",
      "execution_count": null,
      "metadata": {
        "id": "JMgSr3qaNFs8",
        "outputId": "633db430-22a5-4c41-f5ea-7ed30b02d726"
      },
      "outputs": [
        {
          "data": {
            "text/html": [
              "<div>\n",
              "<style scoped>\n",
              "    .dataframe tbody tr th:only-of-type {\n",
              "        vertical-align: middle;\n",
              "    }\n",
              "\n",
              "    .dataframe tbody tr th {\n",
              "        vertical-align: top;\n",
              "    }\n",
              "\n",
              "    .dataframe thead th {\n",
              "        text-align: right;\n",
              "    }\n",
              "</style>\n",
              "<table border=\"1\" class=\"dataframe\">\n",
              "  <thead>\n",
              "    <tr style=\"text-align: right;\">\n",
              "      <th></th>\n",
              "      <th>Text</th>\n",
              "      <th>upper</th>\n",
              "    </tr>\n",
              "  </thead>\n",
              "  <tbody>\n",
              "    <tr>\n",
              "      <th>0</th>\n",
              "      <td>@kunalb11 Im an alien</td>\n",
              "      <td>0</td>\n",
              "    </tr>\n",
              "    <tr>\n",
              "      <th>1</th>\n",
              "      <td>@ID_AA_Carmack Ray tracing on Cyberpunk with H...</td>\n",
              "      <td>1</td>\n",
              "    </tr>\n",
              "    <tr>\n",
              "      <th>2</th>\n",
              "      <td>@joerogan @Spotify Great interview!</td>\n",
              "      <td>0</td>\n",
              "    </tr>\n",
              "    <tr>\n",
              "      <th>3</th>\n",
              "      <td>@gtera27 Doge is underestimated</td>\n",
              "      <td>0</td>\n",
              "    </tr>\n",
              "    <tr>\n",
              "      <th>4</th>\n",
              "      <td>@teslacn Congratulations Tesla China for amazi...</td>\n",
              "      <td>0</td>\n",
              "    </tr>\n",
              "    <tr>\n",
              "      <th>5</th>\n",
              "      <td>Happy New Year of the Ox! https://t.co/9WFKMYu2oj</td>\n",
              "      <td>0</td>\n",
              "    </tr>\n",
              "    <tr>\n",
              "      <th>6</th>\n",
              "      <td>Frodo was the underdoge,\\nAll thought he would...</td>\n",
              "      <td>0</td>\n",
              "    </tr>\n",
              "    <tr>\n",
              "      <th>7</th>\n",
              "      <td>@OwenSparks_ @flcnhvy @anonyx10 Haha thanks :)</td>\n",
              "      <td>0</td>\n",
              "    </tr>\n",
              "    <tr>\n",
              "      <th>8</th>\n",
              "      <td>@flcnhvy @anonyx10 Indeed! Tweets definitely d...</td>\n",
              "      <td>0</td>\n",
              "    </tr>\n",
              "    <tr>\n",
              "      <th>9</th>\n",
              "      <td>The most entertaining outcome is the most likely</td>\n",
              "      <td>0</td>\n",
              "    </tr>\n",
              "  </tbody>\n",
              "</table>\n",
              "</div>"
            ],
            "text/plain": [
              "                                                Text  upper\n",
              "0                             @kunalb11 Im an alien      0\n",
              "1  @ID_AA_Carmack Ray tracing on Cyberpunk with H...      1\n",
              "2                @joerogan @Spotify Great interview!      0\n",
              "3                    @gtera27 Doge is underestimated      0\n",
              "4  @teslacn Congratulations Tesla China for amazi...      0\n",
              "5  Happy New Year of the Ox! https://t.co/9WFKMYu2oj      0\n",
              "6  Frodo was the underdoge,\\nAll thought he would...      0\n",
              "7     @OwenSparks_ @flcnhvy @anonyx10 Haha thanks :)      0\n",
              "8  @flcnhvy @anonyx10 Indeed! Tweets definitely d...      0\n",
              "9   The most entertaining outcome is the most likely      0"
            ]
          },
          "execution_count": 9,
          "metadata": {},
          "output_type": "execute_result"
        }
      ],
      "source": [
        "data['upper'] = data['Text'].apply(lambda x: len([x for x in x.split() if x.isupper()]))\n",
        "data[['Text','upper']].head(10)"
      ]
    },
    {
      "cell_type": "markdown",
      "metadata": {
        "id": "5uAy0Vi6NFs9"
      },
      "source": [
        "pre-processing"
      ]
    },
    {
      "cell_type": "code",
      "execution_count": null,
      "metadata": {
        "id": "sWCMeR2zNFs-",
        "outputId": "8252e80e-8687-4ee0-c202-da1fab4e3d54"
      },
      "outputs": [
        {
          "data": {
            "text/plain": [
              "0                               @kunalb11 im an alien\n",
              "1    @id_aa_carmack ray tracing on cyberpunk with h...\n",
              "2                  @joerogan @spotify great interview!\n",
              "3                      @gtera27 doge is underestimated\n",
              "4    @teslacn congratulations tesla china for amazi...\n",
              "Name: Text, dtype: object"
            ]
          },
          "execution_count": 10,
          "metadata": {},
          "output_type": "execute_result"
        }
      ],
      "source": [
        "data['Text'] = data['Text'].apply(lambda x: \" \".join(x.lower() for x in x.split()))\n",
        "data['Text'].head()"
      ]
    },
    {
      "cell_type": "code",
      "execution_count": null,
      "metadata": {
        "id": "xzGO2ZmJNFtA",
        "outputId": "fe95662d-dae7-4318-cbdf-86f3b88a67e0"
      },
      "outputs": [
        {
          "data": {
            "text/plain": [
              "0                                 kunalb11 im an alien\n",
              "1    id_aa_carmack ray tracing on cyberpunk with hd...\n",
              "2                     joerogan spotify great interview\n",
              "3                       gtera27 doge is underestimated\n",
              "4    teslacn congratulations tesla china for amazin...\n",
              "Name: Text, dtype: object"
            ]
          },
          "execution_count": 11,
          "metadata": {},
          "output_type": "execute_result"
        }
      ],
      "source": [
        "#removing punctuation \n",
        "data['Text'] = data['Text'].str.replace('[^\\w\\s]','')\n",
        "data['Text'].head()"
      ]
    },
    {
      "cell_type": "code",
      "execution_count": null,
      "metadata": {
        "id": "pJ_JLuqDNFtC",
        "outputId": "c5f7517f-bb5b-4783-d882-441e3eb86766"
      },
      "outputs": [
        {
          "data": {
            "text/plain": [
              "0                                    kunalb11 im alien\n",
              "1    id_aa_carmack ray tracing cyberpunk hdr nextle...\n",
              "2                     joerogan spotify great interview\n",
              "3                          gtera27 doge underestimated\n",
              "4    teslacn congratulations tesla china amazing ex...\n",
              "Name: Text, dtype: object"
            ]
          },
          "execution_count": 12,
          "metadata": {},
          "output_type": "execute_result"
        }
      ],
      "source": [
        "#removing stop words\n",
        "stop = stopwords.words('english')\n",
        "data['Text'] = data['Text'].apply(lambda x: \" \".join(x for x in x.split() if x not in stop))\n",
        "data['Text'].head()"
      ]
    },
    {
      "cell_type": "code",
      "execution_count": null,
      "metadata": {
        "id": "Sn0lDIjENFtE",
        "outputId": "2cf8f27c-7639-4e96-d6e3-f2e07303bd06"
      },
      "outputs": [
        {
          "data": {
            "text/plain": [
              "spacex            239\n",
              "amp               218\n",
              "tesla             166\n",
              "erdayastronaut    142\n",
              "rt                127\n",
              "ppathole          123\n",
              "flcnhvy           114\n",
              "yes                86\n",
              "great              76\n",
              "teslaownerssv      73\n",
              "dtype: int64"
            ]
          },
          "execution_count": 13,
          "metadata": {},
          "output_type": "execute_result"
        }
      ],
      "source": [
        "#removing common words\n",
        "freq = pd.Series(' '.join(data['Text']).split()).value_counts()[:10]\n",
        "freq"
      ]
    },
    {
      "cell_type": "code",
      "execution_count": null,
      "metadata": {
        "id": "v9K24xTcNFtF",
        "outputId": "c0a40ee8-1d0c-478d-f4ad-8d36837c9189"
      },
      "outputs": [
        {
          "data": {
            "text/plain": [
              "0                                    kunalb11 im alien\n",
              "1    id_aa_carmack ray tracing cyberpunk hdr nextle...\n",
              "2                           joerogan spotify interview\n",
              "3                          gtera27 doge underestimated\n",
              "4    teslacn congratulations china amazing executio...\n",
              "Name: Text, dtype: object"
            ]
          },
          "execution_count": 14,
          "metadata": {},
          "output_type": "execute_result"
        }
      ],
      "source": [
        "freq = list(freq.index)\n",
        "data['Text'] = data['Text'].apply(lambda x: \" \".join(x for x in x.split() if x not in freq))\n",
        "data['Text'].head()"
      ]
    },
    {
      "cell_type": "code",
      "execution_count": null,
      "metadata": {
        "id": "mFENUNt0NFtH",
        "outputId": "d2a45240-8900-448a-e5b1-d9f0c162b952"
      },
      "outputs": [
        {
          "data": {
            "text/plain": [
              "httpstcotgpwej7wqa    1\n",
              "inc                   1\n",
              "httpstco5lplhqgazw    1\n",
              "airplane              1\n",
              "caught                1\n",
              "chotihaque            1\n",
              "dealing               1\n",
              "gap                   1\n",
              "2012                  1\n",
              "unhappy               1\n",
              "dtype: int64"
            ]
          },
          "execution_count": 15,
          "metadata": {},
          "output_type": "execute_result"
        }
      ],
      "source": [
        "#removing rare words\n",
        "freq = pd.Series(' '.join(data['Text']).split()).value_counts()[-10:]\n",
        "freq"
      ]
    },
    {
      "cell_type": "code",
      "execution_count": null,
      "metadata": {
        "id": "GAhjfylTNFtI",
        "outputId": "f6d309e2-0ab7-420f-fd92-1d05494dfdff"
      },
      "outputs": [
        {
          "data": {
            "text/plain": [
              "0                                    kunalb11 im alien\n",
              "1    id_aa_carmack ray tracing cyberpunk hdr nextle...\n",
              "2                           joerogan spotify interview\n",
              "3                          gtera27 doge underestimated\n",
              "4    teslacn congratulations china amazing executio...\n",
              "Name: Text, dtype: object"
            ]
          },
          "execution_count": 16,
          "metadata": {},
          "output_type": "execute_result"
        }
      ],
      "source": [
        "freq = list(freq.index)\n",
        "data['Text'] = data['Text'].apply(lambda x: \" \".join(x for x in x.split() if x not in freq))\n",
        "data['Text'].head()"
      ]
    },
    {
      "cell_type": "code",
      "execution_count": null,
      "metadata": {
        "id": "imcz-En0NFtJ",
        "outputId": "d0ef9f17-1fc9-4a15-aafb-424ceb111f57"
      },
      "outputs": [
        {
          "data": {
            "text/plain": [
              "0                                    kunalb11 in alien\n",
              "1    id_aa_carmack ray tracing cyberpunk her nextle...\n",
              "2                           joerogan specify interview\n",
              "3                          gtera27 done underestimated\n",
              "4    teslacn congratulations china amazing executio...\n",
              "Name: Text, dtype: object"
            ]
          },
          "execution_count": 17,
          "metadata": {},
          "output_type": "execute_result"
        }
      ],
      "source": [
        "data['Text'][:5].apply(lambda x: str(TextBlob(x).correct()))"
      ]
    },
    {
      "cell_type": "code",
      "execution_count": null,
      "metadata": {
        "id": "7MlY-qTqNFtK",
        "outputId": "ffc1a589-1993-4668-fcd8-a703ef301935"
      },
      "outputs": [
        {
          "name": "stderr",
          "output_type": "stream",
          "text": [
            "[nltk_data] Downloading package punkt to\n",
            "[nltk_data]     C:\\Users\\HARSHA\\AppData\\Roaming\\nltk_data...\n",
            "[nltk_data]   Package punkt is already up-to-date!\n"
          ]
        },
        {
          "data": {
            "text/plain": [
              "WordList(['id_aa_carmack', 'ray', 'tracing', 'cyberpunk', 'hdr', 'nextlevel', 'tried'])"
            ]
          },
          "execution_count": 18,
          "metadata": {},
          "output_type": "execute_result"
        }
      ],
      "source": [
        "import nltk\n",
        "nltk.download('punkt')\n",
        "\n",
        "TextBlob(data['Text'][1]).words"
      ]
    },
    {
      "cell_type": "code",
      "execution_count": null,
      "metadata": {
        "id": "ejBOEm3QNFtL",
        "outputId": "3eb149ba-050c-49f3-d1ca-2dd606967d91"
      },
      "outputs": [
        {
          "data": {
            "text/plain": [
              "0                                    kunalb11 im alien\n",
              "1    id_aa_carmack ray trace cyberpunk hdr nextleve...\n",
              "2                           joerogan spotifi interview\n",
              "3                              gtera27 doge underestim\n",
              "4    teslacn congratul china amaz execut last year ...\n",
              "Name: Text, dtype: object"
            ]
          },
          "execution_count": 19,
          "metadata": {},
          "output_type": "execute_result"
        }
      ],
      "source": [
        "from nltk.stem import PorterStemmer\n",
        "st = PorterStemmer()\n",
        "data['Text'][:5].apply(lambda x: \" \".join([st.stem(word) for word in x.split()]))"
      ]
    },
    {
      "cell_type": "code",
      "execution_count": null,
      "metadata": {
        "id": "yG209c85NFtL",
        "outputId": "c58b8630-9e8d-4c60-e59c-fa57cf67f879"
      },
      "outputs": [
        {
          "name": "stderr",
          "output_type": "stream",
          "text": [
            "[nltk_data] Downloading package wordnet to\n",
            "[nltk_data]     C:\\Users\\HARSHA\\AppData\\Roaming\\nltk_data...\n",
            "[nltk_data]   Package wordnet is already up-to-date!\n"
          ]
        },
        {
          "data": {
            "text/plain": [
              "0                                    kunalb11 im alien\n",
              "1    id_aa_carmack ray tracing cyberpunk hdr nextle...\n",
              "2                           joerogan spotify interview\n",
              "3                          gtera27 doge underestimated\n",
              "4    teslacn congratulation china amazing execution...\n",
              "Name: Text, dtype: object"
            ]
          },
          "execution_count": 20,
          "metadata": {},
          "output_type": "execute_result"
        }
      ],
      "source": [
        "from textblob import Word\n",
        "\n",
        "import nltk\n",
        "nltk.download('wordnet')\n",
        "\n",
        "data['Text'] = data['Text'].apply(lambda x: \" \".join([Word(word).lemmatize() for word in x.split()]))\n",
        "data['Text'].head()"
      ]
    },
    {
      "cell_type": "markdown",
      "metadata": {
        "id": "EbHBwEujNFtM"
      },
      "source": [
        "N-gram"
      ]
    },
    {
      "cell_type": "code",
      "execution_count": null,
      "metadata": {
        "id": "PvlbAumdNFtN",
        "outputId": "7fc45569-b846-49c1-a15c-00cf298dffaf"
      },
      "outputs": [
        {
          "data": {
            "text/plain": [
              "[WordList(['kunalb11', 'im']), WordList(['im', 'alien'])]"
            ]
          },
          "execution_count": 21,
          "metadata": {},
          "output_type": "execute_result"
        }
      ],
      "source": [
        "TextBlob(data['Text'][0]).ngrams(2)"
      ]
    },
    {
      "cell_type": "markdown",
      "metadata": {
        "id": "CtF7fBXaNFtO"
      },
      "source": [
        "Term Frequency\n",
        "TF = (Number of times term T appears in the particular row) / (number of terms in that row)"
      ]
    },
    {
      "cell_type": "code",
      "execution_count": null,
      "metadata": {
        "id": "eDucjLTYNFtO",
        "outputId": "1687f649-5970-47ae-c16e-426e02430fb0"
      },
      "outputs": [
        {
          "data": {
            "text/html": [
              "<div>\n",
              "<style scoped>\n",
              "    .dataframe tbody tr th:only-of-type {\n",
              "        vertical-align: middle;\n",
              "    }\n",
              "\n",
              "    .dataframe tbody tr th {\n",
              "        vertical-align: top;\n",
              "    }\n",
              "\n",
              "    .dataframe thead th {\n",
              "        text-align: right;\n",
              "    }\n",
              "</style>\n",
              "<table border=\"1\" class=\"dataframe\">\n",
              "  <thead>\n",
              "    <tr style=\"text-align: right;\">\n",
              "      <th></th>\n",
              "      <th>words</th>\n",
              "      <th>tf</th>\n",
              "    </tr>\n",
              "  </thead>\n",
              "  <tbody>\n",
              "    <tr>\n",
              "      <th>0</th>\n",
              "      <td>id_aa_carmack</td>\n",
              "      <td>1</td>\n",
              "    </tr>\n",
              "    <tr>\n",
              "      <th>1</th>\n",
              "      <td>tried</td>\n",
              "      <td>1</td>\n",
              "    </tr>\n",
              "    <tr>\n",
              "      <th>2</th>\n",
              "      <td>nextlevel</td>\n",
              "      <td>1</td>\n",
              "    </tr>\n",
              "    <tr>\n",
              "      <th>3</th>\n",
              "      <td>hdr</td>\n",
              "      <td>1</td>\n",
              "    </tr>\n",
              "    <tr>\n",
              "      <th>4</th>\n",
              "      <td>cyberpunk</td>\n",
              "      <td>1</td>\n",
              "    </tr>\n",
              "    <tr>\n",
              "      <th>5</th>\n",
              "      <td>tracing</td>\n",
              "      <td>1</td>\n",
              "    </tr>\n",
              "    <tr>\n",
              "      <th>6</th>\n",
              "      <td>ray</td>\n",
              "      <td>1</td>\n",
              "    </tr>\n",
              "  </tbody>\n",
              "</table>\n",
              "</div>"
            ],
            "text/plain": [
              "           words  tf\n",
              "0  id_aa_carmack   1\n",
              "1          tried   1\n",
              "2      nextlevel   1\n",
              "3            hdr   1\n",
              "4      cyberpunk   1\n",
              "5        tracing   1\n",
              "6            ray   1"
            ]
          },
          "execution_count": 22,
          "metadata": {},
          "output_type": "execute_result"
        }
      ],
      "source": [
        "tf1 = (data['Text'][1:2]).apply(lambda x: pd.value_counts(x.split(\" \"))).sum(axis = 0).reset_index()\n",
        "tf1.columns = ['words','tf']\n",
        "tf1"
      ]
    },
    {
      "cell_type": "markdown",
      "metadata": {
        "id": "-wV_9lwzNFtO"
      },
      "source": [
        "Inverse Document Frequency IDF=log(N/n), where, N is the total number of rows and n is the number of rows in which the word was present."
      ]
    },
    {
      "cell_type": "code",
      "execution_count": null,
      "metadata": {
        "id": "suozop1wNFtP",
        "outputId": "452f14cc-8c53-4cda-a166-8baa04227837"
      },
      "outputs": [
        {
          "data": {
            "text/html": [
              "<div>\n",
              "<style scoped>\n",
              "    .dataframe tbody tr th:only-of-type {\n",
              "        vertical-align: middle;\n",
              "    }\n",
              "\n",
              "    .dataframe tbody tr th {\n",
              "        vertical-align: top;\n",
              "    }\n",
              "\n",
              "    .dataframe thead th {\n",
              "        text-align: right;\n",
              "    }\n",
              "</style>\n",
              "<table border=\"1\" class=\"dataframe\">\n",
              "  <thead>\n",
              "    <tr style=\"text-align: right;\">\n",
              "      <th></th>\n",
              "      <th>words</th>\n",
              "      <th>tf</th>\n",
              "      <th>idf</th>\n",
              "    </tr>\n",
              "  </thead>\n",
              "  <tbody>\n",
              "    <tr>\n",
              "      <th>0</th>\n",
              "      <td>id_aa_carmack</td>\n",
              "      <td>1</td>\n",
              "      <td>4.166415</td>\n",
              "    </tr>\n",
              "    <tr>\n",
              "      <th>1</th>\n",
              "      <td>tried</td>\n",
              "      <td>1</td>\n",
              "      <td>5.808643</td>\n",
              "    </tr>\n",
              "    <tr>\n",
              "      <th>2</th>\n",
              "      <td>nextlevel</td>\n",
              "      <td>1</td>\n",
              "      <td>6.907255</td>\n",
              "    </tr>\n",
              "    <tr>\n",
              "      <th>3</th>\n",
              "      <td>hdr</td>\n",
              "      <td>1</td>\n",
              "      <td>6.907255</td>\n",
              "    </tr>\n",
              "    <tr>\n",
              "      <th>4</th>\n",
              "      <td>cyberpunk</td>\n",
              "      <td>1</td>\n",
              "      <td>5.115496</td>\n",
              "    </tr>\n",
              "    <tr>\n",
              "      <th>5</th>\n",
              "      <td>tracing</td>\n",
              "      <td>1</td>\n",
              "      <td>7.600402</td>\n",
              "    </tr>\n",
              "    <tr>\n",
              "      <th>6</th>\n",
              "      <td>ray</td>\n",
              "      <td>1</td>\n",
              "      <td>5.035453</td>\n",
              "    </tr>\n",
              "  </tbody>\n",
              "</table>\n",
              "</div>"
            ],
            "text/plain": [
              "           words  tf       idf\n",
              "0  id_aa_carmack   1  4.166415\n",
              "1          tried   1  5.808643\n",
              "2      nextlevel   1  6.907255\n",
              "3            hdr   1  6.907255\n",
              "4      cyberpunk   1  5.115496\n",
              "5        tracing   1  7.600402\n",
              "6            ray   1  5.035453"
            ]
          },
          "execution_count": 23,
          "metadata": {},
          "output_type": "execute_result"
        }
      ],
      "source": [
        "for i,word in enumerate(tf1['words']):\n",
        "  tf1.loc[i, 'idf'] = np.log(data.shape[0]/(len(data[data['Text'].str.contains(word)])))\n",
        "\n",
        "tf1"
      ]
    },
    {
      "cell_type": "markdown",
      "metadata": {
        "id": "D-T3bSZNNFtP"
      },
      "source": [
        "Term Frequency-Inverse Document Frequency (TF-IDF)"
      ]
    },
    {
      "cell_type": "code",
      "execution_count": null,
      "metadata": {
        "id": "Fr8p31CXNFtQ",
        "outputId": "f324aa66-7b2e-464c-ba58-ce74bfe8e5a0"
      },
      "outputs": [
        {
          "data": {
            "text/html": [
              "<div>\n",
              "<style scoped>\n",
              "    .dataframe tbody tr th:only-of-type {\n",
              "        vertical-align: middle;\n",
              "    }\n",
              "\n",
              "    .dataframe tbody tr th {\n",
              "        vertical-align: top;\n",
              "    }\n",
              "\n",
              "    .dataframe thead th {\n",
              "        text-align: right;\n",
              "    }\n",
              "</style>\n",
              "<table border=\"1\" class=\"dataframe\">\n",
              "  <thead>\n",
              "    <tr style=\"text-align: right;\">\n",
              "      <th></th>\n",
              "      <th>words</th>\n",
              "      <th>tf</th>\n",
              "      <th>idf</th>\n",
              "      <th>tfidf</th>\n",
              "    </tr>\n",
              "  </thead>\n",
              "  <tbody>\n",
              "    <tr>\n",
              "      <th>0</th>\n",
              "      <td>id_aa_carmack</td>\n",
              "      <td>1</td>\n",
              "      <td>4.166415</td>\n",
              "      <td>4.166415</td>\n",
              "    </tr>\n",
              "    <tr>\n",
              "      <th>1</th>\n",
              "      <td>tried</td>\n",
              "      <td>1</td>\n",
              "      <td>5.808643</td>\n",
              "      <td>5.808643</td>\n",
              "    </tr>\n",
              "    <tr>\n",
              "      <th>2</th>\n",
              "      <td>nextlevel</td>\n",
              "      <td>1</td>\n",
              "      <td>6.907255</td>\n",
              "      <td>6.907255</td>\n",
              "    </tr>\n",
              "    <tr>\n",
              "      <th>3</th>\n",
              "      <td>hdr</td>\n",
              "      <td>1</td>\n",
              "      <td>6.907255</td>\n",
              "      <td>6.907255</td>\n",
              "    </tr>\n",
              "    <tr>\n",
              "      <th>4</th>\n",
              "      <td>cyberpunk</td>\n",
              "      <td>1</td>\n",
              "      <td>5.115496</td>\n",
              "      <td>5.115496</td>\n",
              "    </tr>\n",
              "    <tr>\n",
              "      <th>5</th>\n",
              "      <td>tracing</td>\n",
              "      <td>1</td>\n",
              "      <td>7.600402</td>\n",
              "      <td>7.600402</td>\n",
              "    </tr>\n",
              "    <tr>\n",
              "      <th>6</th>\n",
              "      <td>ray</td>\n",
              "      <td>1</td>\n",
              "      <td>5.035453</td>\n",
              "      <td>5.035453</td>\n",
              "    </tr>\n",
              "  </tbody>\n",
              "</table>\n",
              "</div>"
            ],
            "text/plain": [
              "           words  tf       idf     tfidf\n",
              "0  id_aa_carmack   1  4.166415  4.166415\n",
              "1          tried   1  5.808643  5.808643\n",
              "2      nextlevel   1  6.907255  6.907255\n",
              "3            hdr   1  6.907255  6.907255\n",
              "4      cyberpunk   1  5.115496  5.115496\n",
              "5        tracing   1  7.600402  7.600402\n",
              "6            ray   1  5.035453  5.035453"
            ]
          },
          "execution_count": 24,
          "metadata": {},
          "output_type": "execute_result"
        }
      ],
      "source": [
        "tf1['tfidf'] = tf1['tf'] * tf1['idf']\n",
        "tf1"
      ]
    },
    {
      "cell_type": "code",
      "execution_count": null,
      "metadata": {
        "id": "JC00wShgNFtQ",
        "outputId": "b9e4b593-e449-41ec-af87-81baeafc35fb"
      },
      "outputs": [
        {
          "data": {
            "text/plain": [
              "<1999x1000 sparse matrix of type '<class 'numpy.float64'>'\n",
              "\twith 7375 stored elements in Compressed Sparse Row format>"
            ]
          },
          "execution_count": 25,
          "metadata": {},
          "output_type": "execute_result"
        }
      ],
      "source": [
        "from sklearn.feature_extraction.text import TfidfVectorizer\n",
        "tfidf = TfidfVectorizer(max_features=1000, lowercase=True, analyzer='word',\n",
        " stop_words= 'english',ngram_range=(1,1))\n",
        "vect = tfidf.fit_transform(data['Text'])\n",
        "vect"
      ]
    },
    {
      "cell_type": "markdown",
      "metadata": {
        "id": "7Hy_BfsHNFtR"
      },
      "source": [
        "Bag of Words"
      ]
    },
    {
      "cell_type": "code",
      "execution_count": null,
      "metadata": {
        "id": "WzIPkCxyNFtR",
        "outputId": "a2211a56-1c50-415b-ba3a-cff0e167ce83"
      },
      "outputs": [
        {
          "data": {
            "text/plain": [
              "<1999x1000 sparse matrix of type '<class 'numpy.int64'>'\n",
              "\twith 8019 stored elements in Compressed Sparse Row format>"
            ]
          },
          "execution_count": 26,
          "metadata": {},
          "output_type": "execute_result"
        }
      ],
      "source": [
        "from sklearn.feature_extraction.text import CountVectorizer\n",
        "bow = CountVectorizer(max_features=1000, lowercase=True, ngram_range=(1,1),analyzer = \"word\")\n",
        "data_bow = bow.fit_transform(data['Text'])\n",
        "data_bow"
      ]
    },
    {
      "cell_type": "markdown",
      "metadata": {
        "id": "lA-QRaUFNFtR"
      },
      "source": [
        "Sentiment Analysis"
      ]
    },
    {
      "cell_type": "code",
      "execution_count": null,
      "metadata": {
        "id": "85FFnZmwNFtS",
        "outputId": "a415da50-96d7-4904-abdd-fa421e0c9d7d"
      },
      "outputs": [
        {
          "data": {
            "text/plain": [
              "0                                 (-0.25, 0.75)\n",
              "1                                    (0.0, 0.0)\n",
              "2                                    (0.0, 0.0)\n",
              "3                                    (0.0, 0.0)\n",
              "4    (0.20000000000000004, 0.32222222222222224)\n",
              "Name: Text, dtype: object"
            ]
          },
          "execution_count": 27,
          "metadata": {},
          "output_type": "execute_result"
        }
      ],
      "source": [
        "data['Text'][:5].apply(lambda x: TextBlob(x).sentiment)"
      ]
    },
    {
      "cell_type": "code",
      "execution_count": null,
      "metadata": {
        "id": "KgTIg2oXNFtT",
        "outputId": "303ae69f-30dc-411a-b9ee-15baafdf8d7d"
      },
      "outputs": [
        {
          "data": {
            "text/html": [
              "<div>\n",
              "<style scoped>\n",
              "    .dataframe tbody tr th:only-of-type {\n",
              "        vertical-align: middle;\n",
              "    }\n",
              "\n",
              "    .dataframe tbody tr th {\n",
              "        vertical-align: top;\n",
              "    }\n",
              "\n",
              "    .dataframe thead th {\n",
              "        text-align: right;\n",
              "    }\n",
              "</style>\n",
              "<table border=\"1\" class=\"dataframe\">\n",
              "  <thead>\n",
              "    <tr style=\"text-align: right;\">\n",
              "      <th></th>\n",
              "      <th>Text</th>\n",
              "      <th>sentiment</th>\n",
              "    </tr>\n",
              "  </thead>\n",
              "  <tbody>\n",
              "    <tr>\n",
              "      <th>0</th>\n",
              "      <td>kunalb11 im alien</td>\n",
              "      <td>-0.250000</td>\n",
              "    </tr>\n",
              "    <tr>\n",
              "      <th>1</th>\n",
              "      <td>id_aa_carmack ray tracing cyberpunk hdr nextle...</td>\n",
              "      <td>0.000000</td>\n",
              "    </tr>\n",
              "    <tr>\n",
              "      <th>2</th>\n",
              "      <td>joerogan spotify interview</td>\n",
              "      <td>0.000000</td>\n",
              "    </tr>\n",
              "    <tr>\n",
              "      <th>3</th>\n",
              "      <td>gtera27 doge underestimated</td>\n",
              "      <td>0.000000</td>\n",
              "    </tr>\n",
              "    <tr>\n",
              "      <th>4</th>\n",
              "      <td>teslacn congratulation china amazing execution...</td>\n",
              "      <td>0.200000</td>\n",
              "    </tr>\n",
              "    <tr>\n",
              "      <th>5</th>\n",
              "      <td>happy new year ox httpstco9wfkmyu2oj</td>\n",
              "      <td>0.468182</td>\n",
              "    </tr>\n",
              "    <tr>\n",
              "      <th>6</th>\n",
              "      <td>frodo underdoge thought would fail httpstcozgx...</td>\n",
              "      <td>-0.500000</td>\n",
              "    </tr>\n",
              "    <tr>\n",
              "      <th>7</th>\n",
              "      <td>owensparks_ anonyx10 haha thanks</td>\n",
              "      <td>0.200000</td>\n",
              "    </tr>\n",
              "    <tr>\n",
              "      <th>8</th>\n",
              "      <td>anonyx10 indeed tweet definitely represent rea...</td>\n",
              "      <td>0.000000</td>\n",
              "    </tr>\n",
              "    <tr>\n",
              "      <th>9</th>\n",
              "      <td>entertaining outcome likely</td>\n",
              "      <td>0.250000</td>\n",
              "    </tr>\n",
              "  </tbody>\n",
              "</table>\n",
              "</div>"
            ],
            "text/plain": [
              "                                                Text  sentiment\n",
              "0                                  kunalb11 im alien  -0.250000\n",
              "1  id_aa_carmack ray tracing cyberpunk hdr nextle...   0.000000\n",
              "2                         joerogan spotify interview   0.000000\n",
              "3                        gtera27 doge underestimated   0.000000\n",
              "4  teslacn congratulation china amazing execution...   0.200000\n",
              "5               happy new year ox httpstco9wfkmyu2oj   0.468182\n",
              "6  frodo underdoge thought would fail httpstcozgx...  -0.500000\n",
              "7                   owensparks_ anonyx10 haha thanks   0.200000\n",
              "8  anonyx10 indeed tweet definitely represent rea...   0.000000\n",
              "9                        entertaining outcome likely   0.250000"
            ]
          },
          "execution_count": 28,
          "metadata": {},
          "output_type": "execute_result"
        }
      ],
      "source": [
        "data['sentiment'] = data['Text'].apply(lambda x: TextBlob(x).sentiment[0] )\n",
        "data[['Text','sentiment']].head(10)"
      ]
    },
    {
      "cell_type": "code",
      "execution_count": null,
      "metadata": {
        "id": "D5VTE8YBNFtU"
      },
      "outputs": [],
      "source": [
        ""
      ]
    }
  ],
  "metadata": {
    "kernelspec": {
      "display_name": "Python 3",
      "language": "python",
      "name": "python3"
    },
    "language_info": {
      "codemirror_mode": {
        "name": "ipython",
        "version": 3
      },
      "file_extension": ".py",
      "mimetype": "text/x-python",
      "name": "python",
      "nbconvert_exporter": "python",
      "pygments_lexer": "ipython3",
      "version": "3.8.5"
    },
    "colab": {
      "name": "Text-Mining Elon Musk tweets.ipynb",
      "provenance": [],
      "include_colab_link": true
    }
  },
  "nbformat": 4,
  "nbformat_minor": 0
}